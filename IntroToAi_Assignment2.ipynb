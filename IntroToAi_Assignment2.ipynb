{
 "cells": [
  {
   "cell_type": "code",
   "execution_count": 134,
   "metadata": {},
   "outputs": [
    {
     "data": {
      "text/plain": [
       "[<matplotlib.lines.Line2D at 0x126364730>]"
      ]
     },
     "execution_count": 134,
     "metadata": {},
     "output_type": "execute_result"
    },
    {
     "data": {
      "image/png": "[encoded data removed]",
      "text/plain": [
       "<Figure size 432x288 with 1 Axes>"
      ]
     },
     "metadata": {
      "needs_background": "light"
     },
     "output_type": "display_data"
    }
   ],
   "source": [
    "import pandas as panda\n",
    "import numpy as np\n",
    "from sklearn import linear_model\n",
    "import scipy.stats as sp\n",
    "import matplotlib.pyplot as plt\n",
    "\n",
    "#importig dataset and removing unecessary colums\n",
    "dataset = panda.read_csv('/Users/ainaflones/NAS.csv')\n",
    "dataset = dataset.drop(['Volume','Open', 'High', 'Low', 'Adj Close'], axis='columns')\n",
    "\n",
    "#creating a column and copying the index\n",
    "dataset['Index'] = dataset.index\n",
    "\n",
    "#removing rows with no data\n",
    "dataset = dataset.dropna()\n",
    "\n",
    "dataset['Date'] = panda.to_datetime(dataset['Date'])\n",
    "\n",
    "#the data to be used \n",
    "input = dataset.drop(['Close','Date'], axis='columns')\n",
    "pris = dataset.Close\n",
    "\n",
    "#create linear model\n",
    "regObj = linear_model.LinearRegression()\n",
    "regObj.fit(input,pris)\n",
    "\n",
    "#visualizing the graph\n",
    "plt.xlabel('Date',fontsize=16)\n",
    "plt.ylabel('Price',fontsize=16)\n",
    "plt.scatter(dataset.Date,dataset.Close,color='blue')\n",
    "plt.plot(dataset.Date,regObj.predict(input),color='red')"
   ]
  },
  {
   "cell_type": "code",
   "execution_count": 135,
   "metadata": {},
   "outputs": [
    {
     "data": {
      "text/plain": [
       "array([103.78452251])"
      ]
     },
     "execution_count": 135,
     "metadata": {},
     "output_type": "execute_result"
    }
   ],
   "source": [
    "#Checking the prediction for row 3221 in the dataset. \n",
    "regObj.predict([[3221]])\n"
   ]
  },
  {
   "cell_type": "code",
   "execution_count": 136,
   "metadata": {},
   "outputs": [
    {
     "name": "stdout",
     "output_type": "stream",
     "text": [
      "           Date       Close  Index\n",
      "3221 2016-09-08  176.886002   3221\n"
     ]
    }
   ],
   "source": [
    "#the actual data for this day\n",
    "print(dataset.loc[[3221]])"
   ]
  },
  {
   "cell_type": "code",
   "execution_count": 130,
   "metadata": {},
   "outputs": [
    {
     "name": "stdout",
     "output_type": "stream",
     "text": [
      "45.438796051684925\n",
      "0.023696682464454975\n"
     ]
    }
   ],
   "source": [
    "from sklearn.model_selection import train_test_split \n",
    "from sklearn import metrics\n",
    "\n",
    "#using train split test on the data \n",
    "X = input\n",
    "y = pris\n",
    "y = y.astype('long')\n",
    "X = X.astype('int')\n",
    "X_train, X_test, y_train, y_test = train_test_split(X, y, test_size=0.20)\n",
    "\n",
    "lg = linear_model.LinearRegression()\n",
    "lg.fit(X_train, y_train)\n",
    "y_pred = lg.predict(X_test)\n",
    "\n",
    "# finding the average errors performed by the model, the lower the better \n",
    "print(np.sqrt(metrics.mean_squared_error(y_test, y_pred)))\n",
    "\n",
    "#can see that this is not a good algorithm for this dataset. \n",
    "print(metrics.accuracy_score(Y_pred,y_test))"
   ]
  }
 ],
 "metadata": {
  "kernelspec": {
   "display_name": "Python 3",
   "language": "python",
   "name": "python3"
  },
  "language_info": {
   "codemirror_mode": {
    "name": "ipython",
    "version": 3
   },
   "file_extension": ".py",
   "mimetype": "text/x-python",
   "name": "python",
   "nbconvert_exporter": "python",
   "pygments_lexer": "ipython3",
   "version": "3.8.5"
  }
 },
 "nbformat": 4,
 "nbformat_minor": 4
}
